{
 "cells": [
  {
   "cell_type": "markdown",
   "metadata": {},
   "source": [
    "#### **Importing Libraries**"
   ]
  },
  {
   "cell_type": "code",
   "execution_count": 1,
   "metadata": {},
   "outputs": [],
   "source": [
    "import pandas as pd\n",
    "import numpy as np\n",
    "from sqlalchemy import create_engine"
   ]
  },
  {
   "cell_type": "markdown",
   "metadata": {},
   "source": [
    "##### **Extracting Data**"
   ]
  },
  {
   "cell_type": "code",
   "execution_count": 2,
   "metadata": {},
   "outputs": [
    {
     "data": {
      "text/html": [
       "<div>\n",
       "<style scoped>\n",
       "    .dataframe tbody tr th:only-of-type {\n",
       "        vertical-align: middle;\n",
       "    }\n",
       "\n",
       "    .dataframe tbody tr th {\n",
       "        vertical-align: top;\n",
       "    }\n",
       "\n",
       "    .dataframe thead th {\n",
       "        text-align: right;\n",
       "    }\n",
       "</style>\n",
       "<table border=\"1\" class=\"dataframe\">\n",
       "  <thead>\n",
       "    <tr style=\"text-align: right;\">\n",
       "      <th></th>\n",
       "      <th>Hired_Date</th>\n",
       "      <th>Leave_Date</th>\n",
       "      <th>Gender</th>\n",
       "      <th>Marital_Status</th>\n",
       "      <th>Job_Title</th>\n",
       "      <th>Salary</th>\n",
       "      <th>Department</th>\n",
       "      <th>Job_Category</th>\n",
       "    </tr>\n",
       "  </thead>\n",
       "  <tbody>\n",
       "    <tr>\n",
       "      <th>0</th>\n",
       "      <td>2011-06-27</td>\n",
       "      <td>NaN</td>\n",
       "      <td>f.</td>\n",
       "      <td>Widowed</td>\n",
       "      <td>Data Anlyst</td>\n",
       "      <td>117744.0</td>\n",
       "      <td>IT</td>\n",
       "      <td>Executive</td>\n",
       "    </tr>\n",
       "    <tr>\n",
       "      <th>1</th>\n",
       "      <td>2000-05-06</td>\n",
       "      <td>2003-10-05</td>\n",
       "      <td>f.</td>\n",
       "      <td>Divorced</td>\n",
       "      <td>Business Analyst</td>\n",
       "      <td>119672.0</td>\n",
       "      <td>Human Resources</td>\n",
       "      <td>Manager</td>\n",
       "    </tr>\n",
       "    <tr>\n",
       "      <th>2</th>\n",
       "      <td>2010-01-16</td>\n",
       "      <td>2013-12-09</td>\n",
       "      <td>mALE</td>\n",
       "      <td>Widowed</td>\n",
       "      <td>Business Analyst</td>\n",
       "      <td>38849.0</td>\n",
       "      <td>Marketing</td>\n",
       "      <td>NaN</td>\n",
       "    </tr>\n",
       "    <tr>\n",
       "      <th>3</th>\n",
       "      <td>2009-10-17</td>\n",
       "      <td>NaN</td>\n",
       "      <td>M.</td>\n",
       "      <td>single</td>\n",
       "      <td>Sr. Data Analyst</td>\n",
       "      <td>57301.0</td>\n",
       "      <td>Sales</td>\n",
       "      <td>Executive</td>\n",
       "    </tr>\n",
       "    <tr>\n",
       "      <th>4</th>\n",
       "      <td>2000-02-15</td>\n",
       "      <td>2012-08-18</td>\n",
       "      <td>mALE</td>\n",
       "      <td>Widowed</td>\n",
       "      <td>Data Engineer</td>\n",
       "      <td>47959.0</td>\n",
       "      <td>HR</td>\n",
       "      <td>Management</td>\n",
       "    </tr>\n",
       "  </tbody>\n",
       "</table>\n",
       "</div>"
      ],
      "text/plain": [
       "   Hired_Date  Leave_Date Gender Marital_Status         Job_Title    Salary  \\\n",
       "0  2011-06-27         NaN     f.        Widowed       Data Anlyst  117744.0   \n",
       "1  2000-05-06  2003-10-05     f.       Divorced  Business Analyst  119672.0   \n",
       "2  2010-01-16  2013-12-09   mALE        Widowed  Business Analyst   38849.0   \n",
       "3  2009-10-17         NaN     M.         single  Sr. Data Analyst   57301.0   \n",
       "4  2000-02-15  2012-08-18   mALE        Widowed     Data Engineer   47959.0   \n",
       "\n",
       "        Department Job_Category  \n",
       "0               IT    Executive  \n",
       "1  Human Resources      Manager  \n",
       "2        Marketing          NaN  \n",
       "3            Sales    Executive  \n",
       "4               HR   Management  "
      ]
     },
     "execution_count": 2,
     "metadata": {},
     "output_type": "execute_result"
    }
   ],
   "source": [
    "df= pd.read_csv(\"C:/Users/DELL/Downloads/messy_large_employee_data.csv\")\n",
    "df.head()"
   ]
  },
  {
   "cell_type": "code",
   "execution_count": 3,
   "metadata": {},
   "outputs": [
    {
     "name": "stdout",
     "output_type": "stream",
     "text": [
      "<class 'pandas.core.frame.DataFrame'>\n",
      "RangeIndex: 1200000 entries, 0 to 1199999\n",
      "Data columns (total 8 columns):\n",
      " #   Column          Non-Null Count    Dtype  \n",
      "---  ------          --------------    -----  \n",
      " 0   Hired_Date      1200000 non-null  object \n",
      " 1   Leave_Date      360211 non-null   object \n",
      " 2   Gender          1200000 non-null  object \n",
      " 3   Marital_Status  1050352 non-null  object \n",
      " 4   Job_Title       1200000 non-null  object \n",
      " 5   Salary          1139710 non-null  float64\n",
      " 6   Department      1200000 non-null  object \n",
      " 7   Job_Category    1049784 non-null  object \n",
      "dtypes: float64(1), object(7)\n",
      "memory usage: 73.2+ MB\n"
     ]
    }
   ],
   "source": [
    "df.info()"
   ]
  },
  {
   "cell_type": "code",
   "execution_count": 4,
   "metadata": {},
   "outputs": [
    {
     "data": {
      "text/plain": [
       "(1200000, 8)"
      ]
     },
     "execution_count": 4,
     "metadata": {},
     "output_type": "execute_result"
    }
   ],
   "source": [
    "df.shape"
   ]
  },
  {
   "cell_type": "markdown",
   "metadata": {},
   "source": [
    "#### Data Cleaning"
   ]
  },
  {
   "cell_type": "code",
   "execution_count": 5,
   "metadata": {},
   "outputs": [
    {
     "data": {
      "text/plain": [
       "array(['f.', 'mALE', 'M.', 'FEMALE', 'F', 'Female', 'M', 'Male'],\n",
       "      dtype=object)"
      ]
     },
     "execution_count": 5,
     "metadata": {},
     "output_type": "execute_result"
    }
   ],
   "source": [
    "df['Gender'].unique()"
   ]
  },
  {
   "cell_type": "code",
   "execution_count": 6,
   "metadata": {},
   "outputs": [
    {
     "data": {
      "text/plain": [
       "array(['Executive', 'Manager', nan, 'Management', 'Tech', 'Technical',\n",
       "       'Admin', 'Administration'], dtype=object)"
      ]
     },
     "execution_count": 6,
     "metadata": {},
     "output_type": "execute_result"
    }
   ],
   "source": [
    "df['Job_Category'].unique()"
   ]
  },
  {
   "cell_type": "code",
   "execution_count": 7,
   "metadata": {},
   "outputs": [
    {
     "data": {
      "text/plain": [
       "array(['Widowed', 'Divorced', 'single', 'divorced', 'Single', nan,\n",
       "       'Married', 'MARRIED'], dtype=object)"
      ]
     },
     "execution_count": 7,
     "metadata": {},
     "output_type": "execute_result"
    }
   ],
   "source": [
    "df['Marital_Status'].unique()"
   ]
  },
  {
   "cell_type": "code",
   "execution_count": 8,
   "metadata": {},
   "outputs": [
    {
     "data": {
      "text/plain": [
       "array(['Data Anlyst', 'Business Analyst', 'Sr. Data Analyst',\n",
       "       'Data Engineer', 'Junior Analyst', 'BI Developer',\n",
       "       'Sr Data Scientist', 'Data Analyst', 'Data Scientist',\n",
       "       'Jr. Data Analyst'], dtype=object)"
      ]
     },
     "execution_count": 8,
     "metadata": {},
     "output_type": "execute_result"
    }
   ],
   "source": [
    "df['Job_Title'].unique()"
   ]
  },
  {
   "cell_type": "code",
   "execution_count": 9,
   "metadata": {},
   "outputs": [
    {
     "data": {
      "text/plain": [
       "array(['IT', 'Human Resources', 'Marketing', 'Sales', 'HR', 'SALES',\n",
       "       'Information Technology', 'FIN', 'Finance'], dtype=object)"
      ]
     },
     "execution_count": 9,
     "metadata": {},
     "output_type": "execute_result"
    }
   ],
   "source": [
    "df['Department'].unique()"
   ]
  },
  {
   "cell_type": "markdown",
   "metadata": {},
   "source": [
    "##### **Fetching & Removal of Duplicates**"
   ]
  },
  {
   "cell_type": "markdown",
   "metadata": {},
   "source": [
    "* Fetching Duplicates"
   ]
  },
  {
   "cell_type": "code",
   "execution_count": 10,
   "metadata": {},
   "outputs": [
    {
     "data": {
      "text/plain": [
       "6"
      ]
     },
     "execution_count": 10,
     "metadata": {},
     "output_type": "execute_result"
    }
   ],
   "source": [
    "df.duplicated().sum()"
   ]
  },
  {
   "cell_type": "markdown",
   "metadata": {},
   "source": [
    "* Removing Duplicates"
   ]
  },
  {
   "cell_type": "code",
   "execution_count": 11,
   "metadata": {},
   "outputs": [],
   "source": [
    "df.drop_duplicates(inplace=True)"
   ]
  },
  {
   "cell_type": "markdown",
   "metadata": {},
   "source": [
    "* Converting HiredDate and LeaveDate from Object Type to DateTime"
   ]
  },
  {
   "cell_type": "code",
   "execution_count": 12,
   "metadata": {},
   "outputs": [],
   "source": [
    "df['Hired_Date']= pd.to_datetime(df['Hired_Date'])\n",
    "df['Leave_Date']= pd.to_datetime(df['Leave_Date'])"
   ]
  },
  {
   "cell_type": "code",
   "execution_count": 13,
   "metadata": {},
   "outputs": [
    {
     "data": {
      "text/plain": [
       "Hired_Date        datetime64[ns]\n",
       "Leave_Date        datetime64[ns]\n",
       "Gender                    object\n",
       "Marital_Status            object\n",
       "Job_Title                 object\n",
       "Salary                   float64\n",
       "Department                object\n",
       "Job_Category              object\n",
       "dtype: object"
      ]
     },
     "execution_count": 13,
     "metadata": {},
     "output_type": "execute_result"
    }
   ],
   "source": [
    "df.dtypes"
   ]
  },
  {
   "cell_type": "markdown",
   "metadata": {},
   "source": [
    "* Creating RowID for Fast Reterival on the MSSQL Database"
   ]
  },
  {
   "cell_type": "code",
   "execution_count": 14,
   "metadata": {},
   "outputs": [],
   "source": [
    "df= df.sort_values(by=['Hired_Date'],ascending=True)\n",
    "df['EmpID']= range(1,len(df)+1)"
   ]
  },
  {
   "cell_type": "code",
   "execution_count": 15,
   "metadata": {},
   "outputs": [
    {
     "data": {
      "text/html": [
       "<div>\n",
       "<style scoped>\n",
       "    .dataframe tbody tr th:only-of-type {\n",
       "        vertical-align: middle;\n",
       "    }\n",
       "\n",
       "    .dataframe tbody tr th {\n",
       "        vertical-align: top;\n",
       "    }\n",
       "\n",
       "    .dataframe thead th {\n",
       "        text-align: right;\n",
       "    }\n",
       "</style>\n",
       "<table border=\"1\" class=\"dataframe\">\n",
       "  <thead>\n",
       "    <tr style=\"text-align: right;\">\n",
       "      <th></th>\n",
       "      <th>Hired_Date</th>\n",
       "      <th>Leave_Date</th>\n",
       "      <th>Gender</th>\n",
       "      <th>Marital_Status</th>\n",
       "      <th>Job_Title</th>\n",
       "      <th>Salary</th>\n",
       "      <th>Department</th>\n",
       "      <th>Job_Category</th>\n",
       "      <th>EmpID</th>\n",
       "    </tr>\n",
       "  </thead>\n",
       "  <tbody>\n",
       "    <tr>\n",
       "      <th>996480</th>\n",
       "      <td>2000-01-01</td>\n",
       "      <td>NaT</td>\n",
       "      <td>f.</td>\n",
       "      <td>Single</td>\n",
       "      <td>Sr. Data Analyst</td>\n",
       "      <td>106044.0</td>\n",
       "      <td>Human Resources</td>\n",
       "      <td>Admin</td>\n",
       "      <td>1</td>\n",
       "    </tr>\n",
       "    <tr>\n",
       "      <th>907377</th>\n",
       "      <td>2000-01-01</td>\n",
       "      <td>2013-04-11</td>\n",
       "      <td>f.</td>\n",
       "      <td>MARRIED</td>\n",
       "      <td>Data Engineer</td>\n",
       "      <td>86555.0</td>\n",
       "      <td>Finance</td>\n",
       "      <td>Manager</td>\n",
       "      <td>2</td>\n",
       "    </tr>\n",
       "    <tr>\n",
       "      <th>1188337</th>\n",
       "      <td>2000-01-01</td>\n",
       "      <td>2008-02-02</td>\n",
       "      <td>Male</td>\n",
       "      <td>MARRIED</td>\n",
       "      <td>BI Developer</td>\n",
       "      <td>79929.0</td>\n",
       "      <td>FIN</td>\n",
       "      <td>Administration</td>\n",
       "      <td>3</td>\n",
       "    </tr>\n",
       "    <tr>\n",
       "      <th>142706</th>\n",
       "      <td>2000-01-01</td>\n",
       "      <td>2005-09-06</td>\n",
       "      <td>Female</td>\n",
       "      <td>NaN</td>\n",
       "      <td>Junior Analyst</td>\n",
       "      <td>101615.0</td>\n",
       "      <td>SALES</td>\n",
       "      <td>Tech</td>\n",
       "      <td>4</td>\n",
       "    </tr>\n",
       "    <tr>\n",
       "      <th>907545</th>\n",
       "      <td>2000-01-01</td>\n",
       "      <td>2009-08-12</td>\n",
       "      <td>Male</td>\n",
       "      <td>divorced</td>\n",
       "      <td>Junior Analyst</td>\n",
       "      <td>37819.0</td>\n",
       "      <td>IT</td>\n",
       "      <td>Tech</td>\n",
       "      <td>5</td>\n",
       "    </tr>\n",
       "  </tbody>\n",
       "</table>\n",
       "</div>"
      ],
      "text/plain": [
       "        Hired_Date Leave_Date  Gender Marital_Status         Job_Title  \\\n",
       "996480  2000-01-01        NaT      f.         Single  Sr. Data Analyst   \n",
       "907377  2000-01-01 2013-04-11      f.        MARRIED     Data Engineer   \n",
       "1188337 2000-01-01 2008-02-02    Male        MARRIED      BI Developer   \n",
       "142706  2000-01-01 2005-09-06  Female            NaN    Junior Analyst   \n",
       "907545  2000-01-01 2009-08-12    Male       divorced    Junior Analyst   \n",
       "\n",
       "           Salary       Department    Job_Category  EmpID  \n",
       "996480   106044.0  Human Resources           Admin      1  \n",
       "907377    86555.0          Finance         Manager      2  \n",
       "1188337   79929.0              FIN  Administration      3  \n",
       "142706   101615.0            SALES            Tech      4  \n",
       "907545    37819.0               IT            Tech      5  "
      ]
     },
     "execution_count": 15,
     "metadata": {},
     "output_type": "execute_result"
    }
   ],
   "source": [
    "df.head()"
   ]
  },
  {
   "cell_type": "markdown",
   "metadata": {},
   "source": [
    "* Reordering Colummn"
   ]
  },
  {
   "cell_type": "code",
   "execution_count": 16,
   "metadata": {},
   "outputs": [],
   "source": [
    "df= df[['EmpID'] + [col for col in df.columns if col!='EmpID']]"
   ]
  },
  {
   "cell_type": "code",
   "execution_count": 17,
   "metadata": {},
   "outputs": [
    {
     "data": {
      "text/html": [
       "<div>\n",
       "<style scoped>\n",
       "    .dataframe tbody tr th:only-of-type {\n",
       "        vertical-align: middle;\n",
       "    }\n",
       "\n",
       "    .dataframe tbody tr th {\n",
       "        vertical-align: top;\n",
       "    }\n",
       "\n",
       "    .dataframe thead th {\n",
       "        text-align: right;\n",
       "    }\n",
       "</style>\n",
       "<table border=\"1\" class=\"dataframe\">\n",
       "  <thead>\n",
       "    <tr style=\"text-align: right;\">\n",
       "      <th></th>\n",
       "      <th>EmpID</th>\n",
       "      <th>Hired_Date</th>\n",
       "      <th>Leave_Date</th>\n",
       "      <th>Gender</th>\n",
       "      <th>Marital_Status</th>\n",
       "      <th>Job_Title</th>\n",
       "      <th>Salary</th>\n",
       "      <th>Department</th>\n",
       "      <th>Job_Category</th>\n",
       "    </tr>\n",
       "  </thead>\n",
       "  <tbody>\n",
       "    <tr>\n",
       "      <th>996480</th>\n",
       "      <td>1</td>\n",
       "      <td>2000-01-01</td>\n",
       "      <td>NaT</td>\n",
       "      <td>f.</td>\n",
       "      <td>Single</td>\n",
       "      <td>Sr. Data Analyst</td>\n",
       "      <td>106044.0</td>\n",
       "      <td>Human Resources</td>\n",
       "      <td>Admin</td>\n",
       "    </tr>\n",
       "    <tr>\n",
       "      <th>907377</th>\n",
       "      <td>2</td>\n",
       "      <td>2000-01-01</td>\n",
       "      <td>2013-04-11</td>\n",
       "      <td>f.</td>\n",
       "      <td>MARRIED</td>\n",
       "      <td>Data Engineer</td>\n",
       "      <td>86555.0</td>\n",
       "      <td>Finance</td>\n",
       "      <td>Manager</td>\n",
       "    </tr>\n",
       "    <tr>\n",
       "      <th>1188337</th>\n",
       "      <td>3</td>\n",
       "      <td>2000-01-01</td>\n",
       "      <td>2008-02-02</td>\n",
       "      <td>Male</td>\n",
       "      <td>MARRIED</td>\n",
       "      <td>BI Developer</td>\n",
       "      <td>79929.0</td>\n",
       "      <td>FIN</td>\n",
       "      <td>Administration</td>\n",
       "    </tr>\n",
       "    <tr>\n",
       "      <th>142706</th>\n",
       "      <td>4</td>\n",
       "      <td>2000-01-01</td>\n",
       "      <td>2005-09-06</td>\n",
       "      <td>Female</td>\n",
       "      <td>NaN</td>\n",
       "      <td>Junior Analyst</td>\n",
       "      <td>101615.0</td>\n",
       "      <td>SALES</td>\n",
       "      <td>Tech</td>\n",
       "    </tr>\n",
       "    <tr>\n",
       "      <th>907545</th>\n",
       "      <td>5</td>\n",
       "      <td>2000-01-01</td>\n",
       "      <td>2009-08-12</td>\n",
       "      <td>Male</td>\n",
       "      <td>divorced</td>\n",
       "      <td>Junior Analyst</td>\n",
       "      <td>37819.0</td>\n",
       "      <td>IT</td>\n",
       "      <td>Tech</td>\n",
       "    </tr>\n",
       "  </tbody>\n",
       "</table>\n",
       "</div>"
      ],
      "text/plain": [
       "         EmpID Hired_Date Leave_Date  Gender Marital_Status         Job_Title  \\\n",
       "996480       1 2000-01-01        NaT      f.         Single  Sr. Data Analyst   \n",
       "907377       2 2000-01-01 2013-04-11      f.        MARRIED     Data Engineer   \n",
       "1188337      3 2000-01-01 2008-02-02    Male        MARRIED      BI Developer   \n",
       "142706       4 2000-01-01 2005-09-06  Female            NaN    Junior Analyst   \n",
       "907545       5 2000-01-01 2009-08-12    Male       divorced    Junior Analyst   \n",
       "\n",
       "           Salary       Department    Job_Category  \n",
       "996480   106044.0  Human Resources           Admin  \n",
       "907377    86555.0          Finance         Manager  \n",
       "1188337   79929.0              FIN  Administration  \n",
       "142706   101615.0            SALES            Tech  \n",
       "907545    37819.0               IT            Tech  "
      ]
     },
     "execution_count": 17,
     "metadata": {},
     "output_type": "execute_result"
    }
   ],
   "source": [
    "df.head()"
   ]
  },
  {
   "cell_type": "markdown",
   "metadata": {},
   "source": [
    "* Transforming Gender Column"
   ]
  },
  {
   "cell_type": "code",
   "execution_count": 18,
   "metadata": {},
   "outputs": [
    {
     "data": {
      "text/plain": [
       "array(['Female', 'Male'], dtype=object)"
      ]
     },
     "execution_count": 18,
     "metadata": {},
     "output_type": "execute_result"
    }
   ],
   "source": [
    "df['Gender']= df['Gender'].replace({'F': 'Female','f': 'Female','f.':'Female','FEMALE':'Female'})\n",
    "df['Gender']= df['Gender'].replace({'M.': 'Male','M':'Male','mALE':'Male'})\n",
    "df['Gender'].unique()"
   ]
  },
  {
   "cell_type": "code",
   "execution_count": 19,
   "metadata": {},
   "outputs": [
    {
     "data": {
      "text/plain": [
       "Marital_Status\n",
       "Married     150742\n",
       "MARRIED     150195\n",
       "divorced    150132\n",
       "Widowed     150084\n",
       "Divorced    149989\n",
       "Single      149735\n",
       "single      149469\n",
       "Name: count, dtype: int64"
      ]
     },
     "execution_count": 19,
     "metadata": {},
     "output_type": "execute_result"
    }
   ],
   "source": [
    "df['Marital_Status'].value_counts()"
   ]
  },
  {
   "cell_type": "markdown",
   "metadata": {},
   "source": [
    "* Transforming Marital_Status Column"
   ]
  },
  {
   "cell_type": "code",
   "execution_count": 20,
   "metadata": {},
   "outputs": [],
   "source": [
    "df['Marital_Status']= df['Marital_Status'].replace({'single': 'Single','MARRIED':'Married'})\n",
    "df['Marital_Status']= df['Marital_Status'].replace({'divorced': 'Divorced','MARRIED':'Married'})\n",
    "df['Marital_Status']= df['Marital_Status'].replace({None: 'Single'})"
   ]
  },
  {
   "cell_type": "code",
   "execution_count": 21,
   "metadata": {},
   "outputs": [
    {
     "data": {
      "text/plain": [
       "array(['Single', 'Married', 'Divorced', 'Widowed'], dtype=object)"
      ]
     },
     "execution_count": 21,
     "metadata": {},
     "output_type": "execute_result"
    }
   ],
   "source": [
    "df['Marital_Status'].unique()"
   ]
  },
  {
   "cell_type": "markdown",
   "metadata": {},
   "source": [
    "* Transforming Salary Column"
   ]
  },
  {
   "cell_type": "code",
   "execution_count": 22,
   "metadata": {},
   "outputs": [
    {
     "data": {
      "text/plain": [
       "array([106044.,  86555.,  79929., ...,  78282.,  57665.,  53231.])"
      ]
     },
     "execution_count": 22,
     "metadata": {},
     "output_type": "execute_result"
    }
   ],
   "source": [
    "df['Salary'].unique()"
   ]
  },
  {
   "cell_type": "markdown",
   "metadata": {},
   "source": [
    "* Replacing Null Values in Salary Column with Average Salary"
   ]
  },
  {
   "cell_type": "code",
   "execution_count": 23,
   "metadata": {},
   "outputs": [],
   "source": [
    "df['Salary']= df['Salary'].fillna(df['Salary'].mean())"
   ]
  },
  {
   "cell_type": "code",
   "execution_count": 24,
   "metadata": {},
   "outputs": [
    {
     "data": {
      "text/plain": [
       "array([106044.,  86555.,  79929., ...,  78282.,  57665.,  53231.])"
      ]
     },
     "execution_count": 24,
     "metadata": {},
     "output_type": "execute_result"
    }
   ],
   "source": [
    "df['Salary'].unique()"
   ]
  },
  {
   "cell_type": "markdown",
   "metadata": {},
   "source": [
    "* Transforming Department Column"
   ]
  },
  {
   "cell_type": "code",
   "execution_count": 25,
   "metadata": {},
   "outputs": [
    {
     "data": {
      "text/plain": [
       "array(['Human Resources', 'Finance', 'FIN', 'SALES', 'IT', 'HR', 'Sales',\n",
       "       'Marketing', 'Information Technology'], dtype=object)"
      ]
     },
     "execution_count": 25,
     "metadata": {},
     "output_type": "execute_result"
    }
   ],
   "source": [
    "df['Department'].unique()"
   ]
  },
  {
   "cell_type": "code",
   "execution_count": 26,
   "metadata": {},
   "outputs": [],
   "source": [
    "df['Department']= df['Department'].replace({'FIN':'Finance','IT':'Information Technology'})\n",
    "df['Department']= df['Department'].replace({'SALES':'Sales','HR':'Human Resources'})"
   ]
  },
  {
   "cell_type": "code",
   "execution_count": 27,
   "metadata": {},
   "outputs": [
    {
     "data": {
      "text/plain": [
       "array(['Human Resources', 'Finance', 'Sales', 'Information Technology',\n",
       "       'Marketing'], dtype=object)"
      ]
     },
     "execution_count": 27,
     "metadata": {},
     "output_type": "execute_result"
    }
   ],
   "source": [
    "df['Department'].unique()"
   ]
  },
  {
   "cell_type": "markdown",
   "metadata": {},
   "source": [
    "* Transforming Job Category Column"
   ]
  },
  {
   "cell_type": "code",
   "execution_count": 28,
   "metadata": {},
   "outputs": [
    {
     "data": {
      "text/plain": [
       "array(['Admin', 'Manager', 'Administration', 'Tech', 'Management',\n",
       "       'Technical', 'Executive', nan], dtype=object)"
      ]
     },
     "execution_count": 28,
     "metadata": {},
     "output_type": "execute_result"
    }
   ],
   "source": [
    "df['Job_Category'].unique()"
   ]
  },
  {
   "cell_type": "code",
   "execution_count": 29,
   "metadata": {},
   "outputs": [
    {
     "data": {
      "text/plain": [
       "Job_Category\n",
       "Management        150402\n",
       "Administration    150291\n",
       "Technical         150128\n",
       "Executive         149899\n",
       "Tech              149741\n",
       "Manager           149711\n",
       "Admin             149606\n",
       "Name: count, dtype: int64"
      ]
     },
     "execution_count": 29,
     "metadata": {},
     "output_type": "execute_result"
    }
   ],
   "source": [
    "df['Job_Category'].value_counts()"
   ]
  },
  {
   "cell_type": "code",
   "execution_count": 30,
   "metadata": {},
   "outputs": [],
   "source": [
    "df['Job_Category']= df['Job_Category'].replace({'Admin':'Administration','Tech':'Technical'})\n",
    "df['Job_Category']= df['Job_Category'].replace({None:'Management','Manager':'Management'})"
   ]
  },
  {
   "cell_type": "code",
   "execution_count": 31,
   "metadata": {},
   "outputs": [
    {
     "data": {
      "text/plain": [
       "array(['Administration', 'Management', 'Technical', 'Executive'],\n",
       "      dtype=object)"
      ]
     },
     "execution_count": 31,
     "metadata": {},
     "output_type": "execute_result"
    }
   ],
   "source": [
    "df['Job_Category'].unique()"
   ]
  },
  {
   "cell_type": "markdown",
   "metadata": {},
   "source": [
    "* Transforming Job_Title"
   ]
  },
  {
   "cell_type": "code",
   "execution_count": 32,
   "metadata": {},
   "outputs": [
    {
     "data": {
      "text/plain": [
       "array(['Sr. Data Analyst', 'Data Engineer', 'BI Developer',\n",
       "       'Junior Analyst', 'Data Anlyst', 'Data Scientist',\n",
       "       'Sr Data Scientist', 'Jr. Data Analyst', 'Data Analyst',\n",
       "       'Business Analyst'], dtype=object)"
      ]
     },
     "execution_count": 32,
     "metadata": {},
     "output_type": "execute_result"
    }
   ],
   "source": [
    "df['Job_Title'].unique()"
   ]
  },
  {
   "cell_type": "code",
   "execution_count": 33,
   "metadata": {},
   "outputs": [
    {
     "data": {
      "text/plain": [
       "array(['Sr. Data Analyst', 'Data Engineer', 'BI Developer',\n",
       "       'Jr. Data Analyst', 'Data Analyst', 'Data Scientist',\n",
       "       'Sr. Data Scientist', 'Business Analyst'], dtype=object)"
      ]
     },
     "execution_count": 33,
     "metadata": {},
     "output_type": "execute_result"
    }
   ],
   "source": [
    "df['Job_Title']= df['Job_Title'].replace({'Junior Analyst':'Jr. Data Analyst','Data Anlyst':'Data Analyst'})\n",
    "df['Job_Title']= df['Job_Title'].replace({'Sr Data Scientist':'Sr. Data Scientist'})\n",
    "df['Job_Title'].unique()"
   ]
  },
  {
   "cell_type": "code",
   "execution_count": 34,
   "metadata": {},
   "outputs": [
    {
     "data": {
      "text/html": [
       "<div>\n",
       "<style scoped>\n",
       "    .dataframe tbody tr th:only-of-type {\n",
       "        vertical-align: middle;\n",
       "    }\n",
       "\n",
       "    .dataframe tbody tr th {\n",
       "        vertical-align: top;\n",
       "    }\n",
       "\n",
       "    .dataframe thead th {\n",
       "        text-align: right;\n",
       "    }\n",
       "</style>\n",
       "<table border=\"1\" class=\"dataframe\">\n",
       "  <thead>\n",
       "    <tr style=\"text-align: right;\">\n",
       "      <th></th>\n",
       "      <th>EmpID</th>\n",
       "      <th>Hired_Date</th>\n",
       "      <th>Leave_Date</th>\n",
       "      <th>Gender</th>\n",
       "      <th>Marital_Status</th>\n",
       "      <th>Job_Title</th>\n",
       "      <th>Salary</th>\n",
       "      <th>Department</th>\n",
       "      <th>Job_Category</th>\n",
       "    </tr>\n",
       "  </thead>\n",
       "  <tbody>\n",
       "    <tr>\n",
       "      <th>996480</th>\n",
       "      <td>1</td>\n",
       "      <td>2000-01-01</td>\n",
       "      <td>NaT</td>\n",
       "      <td>Female</td>\n",
       "      <td>Single</td>\n",
       "      <td>Sr. Data Analyst</td>\n",
       "      <td>106044.0</td>\n",
       "      <td>Human Resources</td>\n",
       "      <td>Administration</td>\n",
       "    </tr>\n",
       "    <tr>\n",
       "      <th>907377</th>\n",
       "      <td>2</td>\n",
       "      <td>2000-01-01</td>\n",
       "      <td>2013-04-11</td>\n",
       "      <td>Female</td>\n",
       "      <td>Married</td>\n",
       "      <td>Data Engineer</td>\n",
       "      <td>86555.0</td>\n",
       "      <td>Finance</td>\n",
       "      <td>Management</td>\n",
       "    </tr>\n",
       "    <tr>\n",
       "      <th>1188337</th>\n",
       "      <td>3</td>\n",
       "      <td>2000-01-01</td>\n",
       "      <td>2008-02-02</td>\n",
       "      <td>Male</td>\n",
       "      <td>Married</td>\n",
       "      <td>BI Developer</td>\n",
       "      <td>79929.0</td>\n",
       "      <td>Finance</td>\n",
       "      <td>Administration</td>\n",
       "    </tr>\n",
       "    <tr>\n",
       "      <th>142706</th>\n",
       "      <td>4</td>\n",
       "      <td>2000-01-01</td>\n",
       "      <td>2005-09-06</td>\n",
       "      <td>Female</td>\n",
       "      <td>Single</td>\n",
       "      <td>Jr. Data Analyst</td>\n",
       "      <td>101615.0</td>\n",
       "      <td>Sales</td>\n",
       "      <td>Technical</td>\n",
       "    </tr>\n",
       "    <tr>\n",
       "      <th>907545</th>\n",
       "      <td>5</td>\n",
       "      <td>2000-01-01</td>\n",
       "      <td>2009-08-12</td>\n",
       "      <td>Male</td>\n",
       "      <td>Divorced</td>\n",
       "      <td>Jr. Data Analyst</td>\n",
       "      <td>37819.0</td>\n",
       "      <td>Information Technology</td>\n",
       "      <td>Technical</td>\n",
       "    </tr>\n",
       "  </tbody>\n",
       "</table>\n",
       "</div>"
      ],
      "text/plain": [
       "         EmpID Hired_Date Leave_Date  Gender Marital_Status         Job_Title  \\\n",
       "996480       1 2000-01-01        NaT  Female         Single  Sr. Data Analyst   \n",
       "907377       2 2000-01-01 2013-04-11  Female        Married     Data Engineer   \n",
       "1188337      3 2000-01-01 2008-02-02    Male        Married      BI Developer   \n",
       "142706       4 2000-01-01 2005-09-06  Female         Single  Jr. Data Analyst   \n",
       "907545       5 2000-01-01 2009-08-12    Male       Divorced  Jr. Data Analyst   \n",
       "\n",
       "           Salary              Department    Job_Category  \n",
       "996480   106044.0         Human Resources  Administration  \n",
       "907377    86555.0                 Finance      Management  \n",
       "1188337   79929.0                 Finance  Administration  \n",
       "142706   101615.0                   Sales       Technical  \n",
       "907545    37819.0  Information Technology       Technical  "
      ]
     },
     "execution_count": 34,
     "metadata": {},
     "output_type": "execute_result"
    }
   ],
   "source": [
    "df.head()"
   ]
  },
  {
   "cell_type": "code",
   "execution_count": 35,
   "metadata": {},
   "outputs": [
    {
     "data": {
      "text/plain": [
       "(1199994, 9)"
      ]
     },
     "execution_count": 35,
     "metadata": {},
     "output_type": "execute_result"
    }
   ],
   "source": [
    "df.shape"
   ]
  },
  {
   "cell_type": "markdown",
   "metadata": {},
   "source": [
    "##### **Creating JobTitleID, DepartmentID & JobCategoryID Columns**"
   ]
  },
  {
   "cell_type": "markdown",
   "metadata": {},
   "source": [
    "* JobTitle ID"
   ]
  },
  {
   "cell_type": "code",
   "execution_count": 36,
   "metadata": {},
   "outputs": [
    {
     "data": {
      "text/plain": [
       "array(['Sr. Data Analyst', 'Data Engineer', 'BI Developer',\n",
       "       'Jr. Data Analyst', 'Data Analyst', 'Data Scientist',\n",
       "       'Sr. Data Scientist', 'Business Analyst'], dtype=object)"
      ]
     },
     "execution_count": 36,
     "metadata": {},
     "output_type": "execute_result"
    }
   ],
   "source": [
    "df['Job_Title'].unique()"
   ]
  },
  {
   "cell_type": "code",
   "execution_count": 37,
   "metadata": {},
   "outputs": [],
   "source": [
    "condition= [ (df['Job_Title']=='Jr. Data Analyst'),\n",
    "             (df['Job_Title']=='Data Analyst'),\n",
    "             (df['Job_Title']=='Data Scientist'),\n",
    "             (df['Job_Title']=='Data Engineer'),\n",
    "             (df['Job_Title']=='Business Analyst'),\n",
    "             (df['Job_Title']=='BI Developer'),\n",
    "             (df['Job_Title']=='Sr. Data Analyst'),\n",
    "             (df['Job_Title']=='Sr. Data Scientist')]\n",
    "output= [1,2,3,4,5,6,7,8]\n",
    "df['JobTitleID']= np.select(condition,output)"
   ]
  },
  {
   "cell_type": "markdown",
   "metadata": {},
   "source": [
    "* DepartmentID"
   ]
  },
  {
   "cell_type": "code",
   "execution_count": 38,
   "metadata": {},
   "outputs": [
    {
     "data": {
      "text/plain": [
       "array(['Human Resources', 'Finance', 'Sales', 'Information Technology',\n",
       "       'Marketing'], dtype=object)"
      ]
     },
     "execution_count": 38,
     "metadata": {},
     "output_type": "execute_result"
    }
   ],
   "source": [
    "df['Department'].unique()"
   ]
  },
  {
   "cell_type": "code",
   "execution_count": 39,
   "metadata": {},
   "outputs": [],
   "source": [
    "condition= [ (df['Department']=='Human Resources'),\n",
    "             (df['Department']=='Finance'),\n",
    "             (df['Department']=='Sales'),\n",
    "             (df['Department']=='Information Technology'),\n",
    "             (df['Department']=='Marketing')]\n",
    "output= [1,2,3,4,5]\n",
    "df['DepartmentID']= np.select(condition,output)"
   ]
  },
  {
   "cell_type": "markdown",
   "metadata": {},
   "source": [
    "* JobCategoryID"
   ]
  },
  {
   "cell_type": "code",
   "execution_count": 40,
   "metadata": {},
   "outputs": [
    {
     "data": {
      "text/plain": [
       "array(['Administration', 'Management', 'Technical', 'Executive'],\n",
       "      dtype=object)"
      ]
     },
     "execution_count": 40,
     "metadata": {},
     "output_type": "execute_result"
    }
   ],
   "source": [
    "df['Job_Category'].unique()"
   ]
  },
  {
   "cell_type": "code",
   "execution_count": 41,
   "metadata": {},
   "outputs": [],
   "source": [
    "condition= [ (df['Job_Category']=='Administration'),\n",
    "             (df['Job_Category']=='Management'),\n",
    "             (df['Job_Category']=='Technical'),\n",
    "             (df['Job_Category']=='Executive')]\n",
    "output= [1,2,3,4]\n",
    "df['JobCategoryID']= np.select(condition,output)"
   ]
  },
  {
   "cell_type": "markdown",
   "metadata": {},
   "source": [
    "#### **Reordering Columns for Readability**"
   ]
  },
  {
   "cell_type": "code",
   "execution_count": 42,
   "metadata": {},
   "outputs": [
    {
     "data": {
      "text/html": [
       "<div>\n",
       "<style scoped>\n",
       "    .dataframe tbody tr th:only-of-type {\n",
       "        vertical-align: middle;\n",
       "    }\n",
       "\n",
       "    .dataframe tbody tr th {\n",
       "        vertical-align: top;\n",
       "    }\n",
       "\n",
       "    .dataframe thead th {\n",
       "        text-align: right;\n",
       "    }\n",
       "</style>\n",
       "<table border=\"1\" class=\"dataframe\">\n",
       "  <thead>\n",
       "    <tr style=\"text-align: right;\">\n",
       "      <th></th>\n",
       "      <th>EmpID</th>\n",
       "      <th>Hired_Date</th>\n",
       "      <th>Leave_Date</th>\n",
       "      <th>Gender</th>\n",
       "      <th>Marital_Status</th>\n",
       "      <th>JobTitleID</th>\n",
       "      <th>Job_Title</th>\n",
       "      <th>Salary</th>\n",
       "      <th>DepartmentID</th>\n",
       "      <th>Department</th>\n",
       "      <th>JobCategoryID</th>\n",
       "      <th>Job_Category</th>\n",
       "    </tr>\n",
       "  </thead>\n",
       "  <tbody>\n",
       "    <tr>\n",
       "      <th>996480</th>\n",
       "      <td>1</td>\n",
       "      <td>2000-01-01</td>\n",
       "      <td>NaT</td>\n",
       "      <td>Female</td>\n",
       "      <td>Single</td>\n",
       "      <td>7</td>\n",
       "      <td>Sr. Data Analyst</td>\n",
       "      <td>106044.0</td>\n",
       "      <td>1</td>\n",
       "      <td>Human Resources</td>\n",
       "      <td>1</td>\n",
       "      <td>Administration</td>\n",
       "    </tr>\n",
       "    <tr>\n",
       "      <th>907377</th>\n",
       "      <td>2</td>\n",
       "      <td>2000-01-01</td>\n",
       "      <td>2013-04-11</td>\n",
       "      <td>Female</td>\n",
       "      <td>Married</td>\n",
       "      <td>4</td>\n",
       "      <td>Data Engineer</td>\n",
       "      <td>86555.0</td>\n",
       "      <td>2</td>\n",
       "      <td>Finance</td>\n",
       "      <td>2</td>\n",
       "      <td>Management</td>\n",
       "    </tr>\n",
       "    <tr>\n",
       "      <th>1188337</th>\n",
       "      <td>3</td>\n",
       "      <td>2000-01-01</td>\n",
       "      <td>2008-02-02</td>\n",
       "      <td>Male</td>\n",
       "      <td>Married</td>\n",
       "      <td>6</td>\n",
       "      <td>BI Developer</td>\n",
       "      <td>79929.0</td>\n",
       "      <td>2</td>\n",
       "      <td>Finance</td>\n",
       "      <td>1</td>\n",
       "      <td>Administration</td>\n",
       "    </tr>\n",
       "    <tr>\n",
       "      <th>142706</th>\n",
       "      <td>4</td>\n",
       "      <td>2000-01-01</td>\n",
       "      <td>2005-09-06</td>\n",
       "      <td>Female</td>\n",
       "      <td>Single</td>\n",
       "      <td>1</td>\n",
       "      <td>Jr. Data Analyst</td>\n",
       "      <td>101615.0</td>\n",
       "      <td>3</td>\n",
       "      <td>Sales</td>\n",
       "      <td>3</td>\n",
       "      <td>Technical</td>\n",
       "    </tr>\n",
       "    <tr>\n",
       "      <th>907545</th>\n",
       "      <td>5</td>\n",
       "      <td>2000-01-01</td>\n",
       "      <td>2009-08-12</td>\n",
       "      <td>Male</td>\n",
       "      <td>Divorced</td>\n",
       "      <td>1</td>\n",
       "      <td>Jr. Data Analyst</td>\n",
       "      <td>37819.0</td>\n",
       "      <td>4</td>\n",
       "      <td>Information Technology</td>\n",
       "      <td>3</td>\n",
       "      <td>Technical</td>\n",
       "    </tr>\n",
       "  </tbody>\n",
       "</table>\n",
       "</div>"
      ],
      "text/plain": [
       "         EmpID Hired_Date Leave_Date  Gender Marital_Status  JobTitleID  \\\n",
       "996480       1 2000-01-01        NaT  Female         Single           7   \n",
       "907377       2 2000-01-01 2013-04-11  Female        Married           4   \n",
       "1188337      3 2000-01-01 2008-02-02    Male        Married           6   \n",
       "142706       4 2000-01-01 2005-09-06  Female         Single           1   \n",
       "907545       5 2000-01-01 2009-08-12    Male       Divorced           1   \n",
       "\n",
       "                Job_Title    Salary  DepartmentID              Department  \\\n",
       "996480   Sr. Data Analyst  106044.0             1         Human Resources   \n",
       "907377      Data Engineer   86555.0             2                 Finance   \n",
       "1188337      BI Developer   79929.0             2                 Finance   \n",
       "142706   Jr. Data Analyst  101615.0             3                   Sales   \n",
       "907545   Jr. Data Analyst   37819.0             4  Information Technology   \n",
       "\n",
       "         JobCategoryID    Job_Category  \n",
       "996480               1  Administration  \n",
       "907377               2      Management  \n",
       "1188337              1  Administration  \n",
       "142706               3       Technical  \n",
       "907545               3       Technical  "
      ]
     },
     "execution_count": 42,
     "metadata": {},
     "output_type": "execute_result"
    }
   ],
   "source": [
    "new_column_order= ['EmpID','Hired_Date','Leave_Date','Gender','Marital_Status',\n",
    "                   'JobTitleID','Job_Title','Salary','DepartmentID','Department',\n",
    "                   'JobCategoryID','Job_Category']\n",
    "df= df[new_column_order]\n",
    "df.head()"
   ]
  },
  {
   "cell_type": "markdown",
   "metadata": {},
   "source": [
    "#### **Creating Connection to MSSQL Database**"
   ]
  },
  {
   "cell_type": "code",
   "execution_count": 43,
   "metadata": {},
   "outputs": [],
   "source": [
    "Server= 'DESKTOP-ULUKUD4'\n",
    "Database= 'HRdb'\n",
    "Driver= 'ODBC Driver 17 for SQL Server'\n",
    "Database_Connection= f'mssql://{Server}/{Database}?driver={Driver}'\n",
    "engine= create_engine(Database_Connection)\n",
    "connection= engine.connect()"
   ]
  },
  {
   "cell_type": "markdown",
   "metadata": {},
   "source": [
    "##### **Load the Transformed data to MSSQL Database**"
   ]
  },
  {
   "cell_type": "code",
   "execution_count": 44,
   "metadata": {},
   "outputs": [
    {
     "data": {
      "text/plain": [
       "90"
      ]
     },
     "execution_count": 44,
     "metadata": {},
     "output_type": "execute_result"
    }
   ],
   "source": [
    "df.to_sql('employee',if_exists='replace',con=engine,index=False)"
   ]
  },
  {
   "cell_type": "markdown",
   "metadata": {},
   "source": [
    "#### **Save to CSV File**"
   ]
  },
  {
   "cell_type": "code",
   "execution_count": 45,
   "metadata": {},
   "outputs": [],
   "source": [
    "df.to_csv('employee.csv',index=False)"
   ]
  }
 ],
 "metadata": {
  "kernelspec": {
   "display_name": "Python 3",
   "language": "python",
   "name": "python3"
  },
  "language_info": {
   "codemirror_mode": {
    "name": "ipython",
    "version": 3
   },
   "file_extension": ".py",
   "mimetype": "text/x-python",
   "name": "python",
   "nbconvert_exporter": "python",
   "pygments_lexer": "ipython3",
   "version": "3.12.1"
  }
 },
 "nbformat": 4,
 "nbformat_minor": 2
}
